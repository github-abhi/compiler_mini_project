{
  "nbformat": 4,
  "nbformat_minor": 0,
  "metadata": {
    "colab": {
      "name": "NLP",
      "provenance": [],
      "mount_file_id": "1rCI57t5N1euxJfsWJ6TJLTXzYfV_jQhA",
      "authorship_tag": "ABX9TyMpwWkJ7hs0h8aX4gPN9RG7",
      "include_colab_link": true
    },
    "kernelspec": {
      "name": "python3",
      "display_name": "Python 3"
    }
  },
  "cells": [
    {
      "cell_type": "markdown",
      "metadata": {
        "id": "view-in-github",
        "colab_type": "text"
      },
      "source": [
        "<a href=\"https://colab.research.google.com/github/github-abhi/compiler_mini_project/blob/master/NLP.ipynb\" target=\"_parent\"><img src=\"https://colab.research.google.com/assets/colab-badge.svg\" alt=\"Open In Colab\"/></a>"
      ]
    },
    {
      "cell_type": "code",
      "metadata": {
        "id": "hQtBFniASZ7V",
        "outputId": "0e6d6a49-641d-4af7-b3fe-994191d282a0",
        "colab": {
          "base_uri": "https://localhost:8080/",
          "height": 34
        }
      },
      "source": [
        "cd /content/now/NLP"
      ],
      "execution_count": null,
      "outputs": [
        {
          "output_type": "stream",
          "text": [
            "/content/now/NLP\n"
          ],
          "name": "stdout"
        }
      ]
    },
    {
      "cell_type": "code",
      "metadata": {
        "id": "eeEMpYsh1Ome",
        "outputId": "5da2b12c-d7cf-467e-d5f9-5b15db6bdbf4",
        "colab": {
          "base_uri": "https://localhost:8080/",
          "height": 34
        }
      },
      "source": [
        "from google.colab import drive\n",
        "drive.mount('/content/gdrive')\n",
        "!ln -s \"/content/gdrive/My Drive\" \"/content/mydrive\""
      ],
      "execution_count": null,
      "outputs": [
        {
          "output_type": "stream",
          "text": [
            "Mounted at /content/gdrive\n"
          ],
          "name": "stdout"
        }
      ]
    },
    {
      "cell_type": "code",
      "metadata": {
        "id": "6YFKM1MbISfM"
      },
      "source": [
        "!rm -r /content/now/NLP/Crawl"
      ],
      "execution_count": null,
      "outputs": []
    },
    {
      "cell_type": "code",
      "metadata": {
        "id": "jb7EmmFfS9Ly",
        "outputId": "0d793c5a-7c08-42f2-a218-fc9887398915",
        "colab": {
          "base_uri": "https://localhost:8080/",
          "height": 34
        }
      },
      "source": [
        "!cp -r  /content/drive/My\\ Drive/NLP/nutch* /content/now"
      ],
      "execution_count": null,
      "outputs": [
        {
          "output_type": "stream",
          "text": [
            "^C\n"
          ],
          "name": "stdout"
        }
      ]
    },
    {
      "cell_type": "code",
      "metadata": {
        "id": "2ifHPgSDSde1",
        "outputId": "b0afec55-e8a2-499f-ac9f-ad80e5d64d25",
        "colab": {
          "base_uri": "https://localhost:8080/",
          "height": 385
        }
      },
      "source": [
        "!wget https://archive.apache.org/dist/nutch/1.14/apache-nutch-1.14-bin.tar.gz\n",
        "!wget http://archive.apache.org/dist/lucene/solr/6.6.5/solr-6.6.5.tgz\n",
        "!tar xzf solr-6.6.5.tgz && rm solr-6.6.5.tgz && mv solr-6.6.5 solr\n",
        "!tar xzf apache-nutch-1.14-bin.tar.gz && rm apache-nutch-1.14-bin.tar.gz && mv apache-nutch-1.14 nutch"
      ],
      "execution_count": null,
      "outputs": [
        {
          "output_type": "stream",
          "text": [
            "--2020-10-27 08:48:34--  https://archive.apache.org/dist/nutch/1.14/apache-nutch-1.14-bin.tar.gz\n",
            "Resolving archive.apache.org (archive.apache.org)... 138.201.131.134, 2a01:4f8:172:2ec5::2\n",
            "Connecting to archive.apache.org (archive.apache.org)|138.201.131.134|:443... connected.\n",
            "HTTP request sent, awaiting response... 200 OK\n",
            "Length: 249107211 (238M) [application/x-gzip]\n",
            "Saving to: ‘apache-nutch-1.14-bin.tar.gz’\n",
            "\n",
            "apache-nutch-1.14-b 100%[===================>] 237.57M  20.3MB/s    in 14s     \n",
            "\n",
            "2020-10-27 08:48:48 (17.5 MB/s) - ‘apache-nutch-1.14-bin.tar.gz’ saved [249107211/249107211]\n",
            "\n",
            "--2020-10-27 08:48:48--  http://archive.apache.org/dist/lucene/solr/6.6.5/solr-6.6.5.tgz\n",
            "Resolving archive.apache.org (archive.apache.org)... 138.201.131.134, 2a01:4f8:172:2ec5::2\n",
            "Connecting to archive.apache.org (archive.apache.org)|138.201.131.134|:80... connected.\n",
            "HTTP request sent, awaiting response... 200 OK\n",
            "Length: 147348857 (141M) [application/x-gzip]\n",
            "Saving to: ‘solr-6.6.5.tgz’\n",
            "\n",
            "solr-6.6.5.tgz      100%[===================>] 140.52M  14.6MB/s    in 9.1s    \n",
            "\n",
            "2020-10-27 08:48:58 (15.4 MB/s) - ‘solr-6.6.5.tgz’ saved [147348857/147348857]\n",
            "\n"
          ],
          "name": "stdout"
        }
      ]
    },
    {
      "cell_type": "code",
      "metadata": {
        "id": "rxVDEf4kW8I4"
      },
      "source": [
        "!mkdir -p nutch/urls"
      ],
      "execution_count": null,
      "outputs": []
    },
    {
      "cell_type": "code",
      "metadata": {
        "id": "doYP1pwfZns0"
      },
      "source": [
        "!touch nutch/urls/seed.txt"
      ],
      "execution_count": null,
      "outputs": []
    },
    {
      "cell_type": "code",
      "metadata": {
        "id": "2Df4PxZzRN_k"
      },
      "source": [
        ""
      ],
      "execution_count": null,
      "outputs": []
    },
    {
      "cell_type": "code",
      "metadata": {
        "id": "qWPYOkK1Z5Og"
      },
      "source": [
        "!cp -r solr/server/solr/configsets/basic_configs solr/server/solr/configsets/nutch\n",
        "!cp nutch/conf/schema.xml solr/server/solr/configsets/nutch/conf\n",
        "!rm solr/server/solr/configsets/nutch/conf/managed-schema"
      ],
      "execution_count": null,
      "outputs": []
    },
    {
      "cell_type": "code",
      "metadata": {
        "id": "FdS29HeuuPZw"
      },
      "source": [
        "!apt-get install openjdk-8-jdk-headless -qq > /dev/null"
      ],
      "execution_count": null,
      "outputs": []
    },
    {
      "cell_type": "code",
      "metadata": {
        "id": "w6sJ19NmuSKJ"
      },
      "source": [
        "import os\n",
        "os.environ[\"JAVA_HOME\"] = \"/usr/lib/jvm/java-8-openjdk-amd64\""
      ],
      "execution_count": null,
      "outputs": []
    },
    {
      "cell_type": "code",
      "metadata": {
        "id": "GEiOdBXu1ppe"
      },
      "source": [
        "!cd /content/now/NLP"
      ],
      "execution_count": null,
      "outputs": []
    },
    {
      "cell_type": "code",
      "metadata": {
        "id": "ncvihct7alq9",
        "outputId": "0c14273a-9bcd-4e76-c460-39445c84da16",
        "colab": {
          "base_uri": "https://localhost:8080/",
          "height": 84
        }
      },
      "source": [
        "!solr/bin/solr start -Dsolr.ltr.enabled=true -force"
      ],
      "execution_count": null,
      "outputs": [
        {
          "output_type": "stream",
          "text": [
            "\n",
            "Port 8983 is already being used by another process (pid: 945)\n",
            "Please choose a different port using the -p option.\n",
            "\n"
          ],
          "name": "stdout"
        }
      ]
    },
    {
      "cell_type": "code",
      "metadata": {
        "id": "bK0N1ipa_MT1"
      },
      "source": [
        "!chmod -R +rwx /content/now/NLP"
      ],
      "execution_count": null,
      "outputs": []
    },
    {
      "cell_type": "code",
      "metadata": {
        "id": "nMCSNpVmudWI"
      },
      "source": [
        "!export JAVA_HOME=/usr/java/latest/"
      ],
      "execution_count": null,
      "outputs": []
    },
    {
      "cell_type": "code",
      "metadata": {
        "id": "v0QiiBgel-sD",
        "outputId": "16ec2dee-b248-4954-d710-33fc61c98e0a",
        "colab": {
          "base_uri": "https://localhost:8080/",
          "height": 1000
        }
      },
      "source": [
        "!nutch/bin/crawl -i -D solr.server.url=http://localhost:8983/solr/nutch -s nutch/urls/ Crawl 1"
      ],
      "execution_count": null,
      "outputs": [
        {
          "output_type": "stream",
          "text": [
            "Injecting seed URLs\n",
            "/content/now/NLP/nutch/bin/nutch inject Crawl/crawldb nutch/urls/\n",
            "Injector: starting at 2020-10-27 11:05:11\n",
            "Injector: crawlDb: Crawl/crawldb\n",
            "Injector: urlDir: nutch/urls\n",
            "Injector: Converting injected urls to crawl db entries.\n",
            "Injector: overwrite: false\n",
            "Injector: update: false\n",
            "Injector: Total urls rejected by filters: 0\n",
            "Injector: Total urls injected after normalization and filtering: 1\n",
            "Injector: Total urls injected but already in CrawlDb: 1\n",
            "Injector: Total new urls injected: 0\n",
            "Injector: finished at 2020-10-27 11:05:13, elapsed: 00:00:02\n",
            "Tue Oct 27 11:05:13 UTC 2020 : Iteration 1 of 1\n",
            "Generating a new segment\n",
            "/content/now/NLP/nutch/bin/nutch generate -D mapreduce.job.reduces=2 -D mapred.child.java.opts=-Xmx1000m -D mapreduce.reduce.speculative=false -D mapreduce.map.speculative=false -D mapreduce.map.output.compress=true Crawl/crawldb Crawl/segments -topN 50000 -numFetchers 1 -noFilter\n",
            "Generator: starting at 2020-10-27 11:05:14\n",
            "Generator: Selecting best-scoring urls due for fetch.\n",
            "Generator: filtering: false\n",
            "Generator: normalizing: true\n",
            "Generator: topN: 50000\n",
            "Generator: Partitioning selected urls for politeness.\n",
            "Generator: segment: Crawl/segments/20201027110517\n",
            "Generator: finished at 2020-10-27 11:05:18, elapsed: 00:00:03\n",
            "Operating on segment : 20201027110517\n",
            "Fetching : 20201027110517\n",
            "/content/now/NLP/nutch/bin/nutch fetch -D mapreduce.job.reduces=2 -D mapred.child.java.opts=-Xmx1000m -D mapreduce.reduce.speculative=false -D mapreduce.map.speculative=false -D mapreduce.map.output.compress=true -D fetcher.timelimit.mins=180 Crawl/segments/20201027110517 -noParsing -threads 50\n",
            "Fetcher: starting at 2020-10-27 11:05:19\n",
            "Fetcher: segment: Crawl/segments/20201027110517\n",
            "Fetcher Timelimit set for : 1603807519753\n",
            "Fetcher: threads: 50\n",
            "Fetcher: time-out divisor: 2\n",
            "QueueFeeder finished: total 36 records + hit by time limit :0\n",
            "FetcherThread 35 Using queue mode : byHost\n",
            "FetcherThread 35 Using queue mode : byHost\n",
            "FetcherThread 41 fetching https://wikimediafoundation.org/ (queue crawl delay=5000ms)\n",
            "FetcherThread 35 Using queue mode : byHost\n",
            "FetcherThread 42 fetching https://stats.wikimedia.org/ (queue crawl delay=5000ms)\n",
            "FetcherThread 35 Using queue mode : byHost\n",
            "FetcherThread 35 Using queue mode : byHost\n",
            "FetcherThread 44 fetching https://en.wikipedia.org/wiki/IOS_9 (queue crawl delay=5000ms)\n",
            "FetcherThread 43 fetching https://phabricator.wikimedia.org/project/view/2875/ (queue crawl delay=5000ms)\n",
            "robots.txt whitelist not configured.\n",
            "robots.txt whitelist not configured.\n",
            "robots.txt whitelist not configured.\n",
            "robots.txt whitelist not configured.\n",
            "FetcherThread 35 Using queue mode : byHost\n",
            "FetcherThread 45 fetching https://www.mediawiki.org/ (queue crawl delay=5000ms)\n",
            "FetcherThread 35 Using queue mode : byHost\n",
            "FetcherThread 46 fetching https://foundation.wikimedia.org/wiki/General_disclaimer (queue crawl delay=5000ms)\n",
            "FetcherThread 35 Using queue mode : byHost\n",
            "FetcherThread 47 fetching https://creativecommons.org/licenses/by-sa/3.0/ (queue crawl delay=5000ms)\n",
            "FetcherThread 35 Using queue mode : byHost\n",
            "FetcherThread 48 fetching https://www.wikimedia.org/sec-warning (queue crawl delay=5000ms)\n",
            "FetcherThread 49 fetching https://wikitech.wikimedia.org/wiki/Incident_documentation (queue crawl delay=5000ms)\n",
            "FetcherThread 35 Using queue mode : byHost\n",
            "FetcherThread 35 Using queue mode : byHost\n",
            "FetcherThread 35 Using queue mode : byHost\n",
            "FetcherThread 35 Using queue mode : byHost\n",
            "FetcherThread 35 Using queue mode : byHost\n",
            "FetcherThread 35 Using queue mode : byHost\n",
            "FetcherThread 35 Using queue mode : byHost\n",
            "FetcherThread 35 Using queue mode : byHost\n",
            "FetcherThread 35 Using queue mode : byHost\n",
            "FetcherThread 35 Using queue mode : byHost\n",
            "FetcherThread 35 Using queue mode : byHost\n",
            "FetcherThread 35 Using queue mode : byHost\n",
            "FetcherThread 35 Using queue mode : byHost\n",
            "FetcherThread 35 Using queue mode : byHost\n",
            "FetcherThread 35 Using queue mode : byHost\n",
            "FetcherThread 35 Using queue mode : byHost\n",
            "FetcherThread 35 Using queue mode : byHost\n",
            "FetcherThread 35 Using queue mode : byHost\n",
            "FetcherThread 35 Using queue mode : byHost\n",
            "FetcherThread 35 Using queue mode : byHost\n",
            "FetcherThread 35 Using queue mode : byHost\n",
            "FetcherThread 35 Using queue mode : byHost\n",
            "FetcherThread 35 Using queue mode : byHost\n",
            "FetcherThread 35 Using queue mode : byHost\n",
            "FetcherThread 35 Using queue mode : byHost\n",
            "FetcherThread 35 Using queue mode : byHost\n",
            "FetcherThread 35 Using queue mode : byHost\n",
            "FetcherThread 35 Using queue mode : byHost\n",
            "FetcherThread 35 Using queue mode : byHost\n",
            "FetcherThread 35 Using queue mode : byHost\n",
            "FetcherThread 35 Using queue mode : byHost\n",
            "FetcherThread 35 Using queue mode : byHost\n",
            "FetcherThread 35 Using queue mode : byHost\n",
            "FetcherThread 35 Using queue mode : byHost\n",
            "FetcherThread 35 Using queue mode : byHost\n",
            "FetcherThread 35 Using queue mode : byHost\n",
            "FetcherThread 35 Using queue mode : byHost\n",
            "FetcherThread 35 Using queue mode : byHost\n",
            "FetcherThread 35 Using queue mode : byHost\n",
            "FetcherThread 35 Using queue mode : byHost\n",
            "FetcherThread 35 Using queue mode : byHost\n",
            "Fetcher: throughput threshold: -1\n",
            "Fetcher: throughput threshold retries: 5\n",
            "fetcher.maxNum.threads can't be < than 50 : using 50 instead\n",
            "FetcherThread 41 fetch of https://wikimediafoundation.org/ failed with: javax.net.ssl.SSLHandshakeException: Received fatal alert: handshake_failure\n",
            "-activeThreads=50, spinWaiting=49, fetchQueues.totalSize=27, fetchQueues.getQueueCount=4\n",
            "-activeThreads=50, spinWaiting=50, fetchQueues.totalSize=27, fetchQueues.getQueueCount=4\n",
            "-activeThreads=50, spinWaiting=50, fetchQueues.totalSize=27, fetchQueues.getQueueCount=4\n",
            "-activeThreads=50, spinWaiting=50, fetchQueues.totalSize=27, fetchQueues.getQueueCount=4\n",
            "-activeThreads=50, spinWaiting=50, fetchQueues.totalSize=27, fetchQueues.getQueueCount=4\n",
            "FetcherThread 48 fetching https://en.wikipedia.org/wiki/Android_KitKat (queue crawl delay=5000ms)\n",
            "FetcherThread 47 fetching https://www.mediawiki.org/wiki/Special:MyLanguage/Code_of_Conduct (queue crawl delay=5000ms)\n",
            "FetcherThread 43 fetching https://foundation.wikimedia.org/wiki/Cookie_statement (queue crawl delay=5000ms)\n",
            "-activeThreads=50, spinWaiting=50, fetchQueues.totalSize=24, fetchQueues.getQueueCount=4\n",
            "FetcherThread 49 fetching https://wikitech.wikimedia.org/wiki/Deployments (queue crawl delay=5000ms)\n",
            "-activeThreads=50, spinWaiting=50, fetchQueues.totalSize=23, fetchQueues.getQueueCount=4\n",
            "-activeThreads=50, spinWaiting=50, fetchQueues.totalSize=23, fetchQueues.getQueueCount=4\n",
            "-activeThreads=50, spinWaiting=50, fetchQueues.totalSize=23, fetchQueues.getQueueCount=4\n",
            "-activeThreads=50, spinWaiting=50, fetchQueues.totalSize=23, fetchQueues.getQueueCount=4\n",
            "FetcherThread 87 fetching https://en.wikipedia.org/wiki/en:Downgrade_attack (queue crawl delay=5000ms)\n",
            "FetcherThread 47 fetching https://www.mediawiki.org/wiki/Compatibility (queue crawl delay=5000ms)\n",
            "FetcherThread 43 fetching https://foundation.wikimedia.org/wiki/Privacy_policy (queue crawl delay=5000ms)\n",
            "-activeThreads=50, spinWaiting=47, fetchQueues.totalSize=20, fetchQueues.getQueueCount=4\n",
            "FetcherThread 49 fetching https://wikitech.wikimedia.org/wiki/Release_Engineering/SAL (queue crawl delay=5000ms)\n",
            "-activeThreads=50, spinWaiting=50, fetchQueues.totalSize=19, fetchQueues.getQueueCount=4\n",
            "-activeThreads=50, spinWaiting=50, fetchQueues.totalSize=19, fetchQueues.getQueueCount=4\n",
            "-activeThreads=50, spinWaiting=50, fetchQueues.totalSize=19, fetchQueues.getQueueCount=4\n",
            "-activeThreads=50, spinWaiting=50, fetchQueues.totalSize=19, fetchQueues.getQueueCount=4\n",
            "-activeThreads=50, spinWaiting=50, fetchQueues.totalSize=19, fetchQueues.getQueueCount=4\n",
            "FetcherThread 87 fetching https://en.wikipedia.org/wiki/man-in-the-middle_attack (queue crawl delay=5000ms)\n",
            "FetcherThread 47 fetching https://www.mediawiki.org/wiki/Special:MyLanguage/How_to_contribute (queue crawl delay=5000ms)\n",
            "FetcherThread 43 fetching https://foundation.wikimedia.org/wiki/Terms_of_Use (queue crawl delay=5000ms)\n",
            "FetcherThread 49 fetching https://wikitech.wikimedia.org/wiki/Cloud_VPS_Server_Admin_Log (queue crawl delay=5000ms)\n",
            "-activeThreads=50, spinWaiting=49, fetchQueues.totalSize=15, fetchQueues.getQueueCount=2\n",
            "-activeThreads=50, spinWaiting=50, fetchQueues.totalSize=15, fetchQueues.getQueueCount=2\n",
            "-activeThreads=50, spinWaiting=50, fetchQueues.totalSize=15, fetchQueues.getQueueCount=2\n",
            "-activeThreads=50, spinWaiting=50, fetchQueues.totalSize=15, fetchQueues.getQueueCount=2\n",
            "-activeThreads=50, spinWaiting=50, fetchQueues.totalSize=15, fetchQueues.getQueueCount=2\n",
            "FetcherThread 87 fetching https://en.wikipedia.org/wiki/web_browsers (queue crawl delay=5000ms)\n",
            "-activeThreads=50, spinWaiting=50, fetchQueues.totalSize=14, fetchQueues.getQueueCount=1\n",
            "FetcherThread 49 fetching https://wikitech.wikimedia.org/wiki/HTTPS (queue crawl delay=5000ms)\n",
            "-activeThreads=50, spinWaiting=49, fetchQueues.totalSize=13, fetchQueues.getQueueCount=1\n",
            "-activeThreads=50, spinWaiting=50, fetchQueues.totalSize=13, fetchQueues.getQueueCount=1\n",
            "-activeThreads=50, spinWaiting=50, fetchQueues.totalSize=13, fetchQueues.getQueueCount=1\n",
            "-activeThreads=50, spinWaiting=50, fetchQueues.totalSize=13, fetchQueues.getQueueCount=1\n",
            "-activeThreads=50, spinWaiting=50, fetchQueues.totalSize=13, fetchQueues.getQueueCount=1\n",
            "-activeThreads=50, spinWaiting=50, fetchQueues.totalSize=13, fetchQueues.getQueueCount=1\n",
            "FetcherThread 49 fetching https://wikitech.wikimedia.org/wiki/Special:SpecialPages (queue crawl delay=5000ms)\n",
            "FetcherThread 49 fetching https://wikitech.wikimedia.org/wiki/Portal:Toolforge (queue crawl delay=5000ms)\n",
            "-activeThreads=50, spinWaiting=50, fetchQueues.totalSize=11, fetchQueues.getQueueCount=1\n",
            "-activeThreads=50, spinWaiting=50, fetchQueues.totalSize=11, fetchQueues.getQueueCount=1\n",
            "-activeThreads=50, spinWaiting=50, fetchQueues.totalSize=11, fetchQueues.getQueueCount=1\n",
            "-activeThreads=50, spinWaiting=50, fetchQueues.totalSize=11, fetchQueues.getQueueCount=1\n",
            "-activeThreads=50, spinWaiting=50, fetchQueues.totalSize=11, fetchQueues.getQueueCount=1\n",
            "FetcherThread 49 fetching https://wikitech.wikimedia.org/wiki/Special:Categories (queue crawl delay=5000ms)\n",
            "FetcherThread 49 fetching https://wikitech.wikimedia.org/wiki/Portal:Cloud_VPS (queue crawl delay=5000ms)\n",
            "-activeThreads=50, spinWaiting=50, fetchQueues.totalSize=9, fetchQueues.getQueueCount=1\n",
            "-activeThreads=50, spinWaiting=50, fetchQueues.totalSize=9, fetchQueues.getQueueCount=1\n",
            "-activeThreads=50, spinWaiting=50, fetchQueues.totalSize=9, fetchQueues.getQueueCount=1\n",
            "-activeThreads=50, spinWaiting=50, fetchQueues.totalSize=9, fetchQueues.getQueueCount=1\n",
            "-activeThreads=50, spinWaiting=50, fetchQueues.totalSize=9, fetchQueues.getQueueCount=1\n",
            "FetcherThread 49 fetching https://wikitech.wikimedia.org/wiki/Category:TLS (queue crawl delay=5000ms)\n",
            "-activeThreads=50, spinWaiting=50, fetchQueues.totalSize=8, fetchQueues.getQueueCount=1\n",
            "-activeThreads=50, spinWaiting=50, fetchQueues.totalSize=8, fetchQueues.getQueueCount=1\n",
            "-activeThreads=50, spinWaiting=50, fetchQueues.totalSize=8, fetchQueues.getQueueCount=1\n",
            "-activeThreads=50, spinWaiting=50, fetchQueues.totalSize=8, fetchQueues.getQueueCount=1\n",
            "-activeThreads=50, spinWaiting=50, fetchQueues.totalSize=8, fetchQueues.getQueueCount=1\n",
            "FetcherThread 49 fetching https://wikitech.wikimedia.org/wiki/Talk:HTTPS/Browser_Recommendations (queue crawl delay=5000ms)\n",
            "-activeThreads=50, spinWaiting=49, fetchQueues.totalSize=7, fetchQueues.getQueueCount=1\n",
            "-activeThreads=50, spinWaiting=50, fetchQueues.totalSize=7, fetchQueues.getQueueCount=1\n",
            "-activeThreads=50, spinWaiting=50, fetchQueues.totalSize=7, fetchQueues.getQueueCount=1\n",
            "-activeThreads=50, spinWaiting=50, fetchQueues.totalSize=7, fetchQueues.getQueueCount=1\n",
            "-activeThreads=50, spinWaiting=50, fetchQueues.totalSize=7, fetchQueues.getQueueCount=1\n",
            "-activeThreads=50, spinWaiting=50, fetchQueues.totalSize=7, fetchQueues.getQueueCount=1\n",
            "FetcherThread 49 fetching https://wikitech.wikimedia.org/w/opensearch_desc.php (queue crawl delay=5000ms)\n",
            "FetcherThread 49 fetching https://wikitech.wikimedia.org/wiki/Special:WhatLinksHere/HTTPS/Browser_Recommendations (queue crawl delay=5000ms)\n",
            "FetcherThread 49 fetching https://wikitech.wikimedia.org/wiki/SRE_Team_requests (queue crawl delay=5000ms)\n",
            "-activeThreads=50, spinWaiting=49, fetchQueues.totalSize=4, fetchQueues.getQueueCount=1\n",
            "-activeThreads=50, spinWaiting=50, fetchQueues.totalSize=4, fetchQueues.getQueueCount=1\n",
            "-activeThreads=50, spinWaiting=50, fetchQueues.totalSize=4, fetchQueues.getQueueCount=1\n",
            "-activeThreads=50, spinWaiting=50, fetchQueues.totalSize=4, fetchQueues.getQueueCount=1\n",
            "-activeThreads=50, spinWaiting=50, fetchQueues.totalSize=4, fetchQueues.getQueueCount=1\n",
            "-activeThreads=50, spinWaiting=50, fetchQueues.totalSize=4, fetchQueues.getQueueCount=1\n",
            "FetcherThread 49 fetching https://wikitech.wikimedia.org/wiki/Special:RecentChanges (queue crawl delay=5000ms)\n",
            "FetcherThread 49 fetching https://wikitech.wikimedia.org/wiki/Server_Admin_Log (queue crawl delay=5000ms)\n",
            "-activeThreads=50, spinWaiting=50, fetchQueues.totalSize=2, fetchQueues.getQueueCount=1\n",
            "-activeThreads=50, spinWaiting=50, fetchQueues.totalSize=2, fetchQueues.getQueueCount=1\n",
            "-activeThreads=50, spinWaiting=50, fetchQueues.totalSize=2, fetchQueues.getQueueCount=1\n",
            "-activeThreads=50, spinWaiting=50, fetchQueues.totalSize=2, fetchQueues.getQueueCount=1\n",
            "-activeThreads=50, spinWaiting=50, fetchQueues.totalSize=2, fetchQueues.getQueueCount=1\n",
            "FetcherThread 49 fetching https://wikitech.wikimedia.org/wiki/Main_Page (queue crawl delay=5000ms)\n",
            "-activeThreads=50, spinWaiting=49, fetchQueues.totalSize=1, fetchQueues.getQueueCount=1\n",
            "-activeThreads=50, spinWaiting=50, fetchQueues.totalSize=1, fetchQueues.getQueueCount=1\n",
            "-activeThreads=50, spinWaiting=50, fetchQueues.totalSize=1, fetchQueues.getQueueCount=1\n",
            "-activeThreads=50, spinWaiting=50, fetchQueues.totalSize=1, fetchQueues.getQueueCount=1\n",
            "-activeThreads=50, spinWaiting=50, fetchQueues.totalSize=1, fetchQueues.getQueueCount=1\n",
            "FetcherThread 49 fetching https://wikitech.wikimedia.org/wiki/HTTPS/3DES_Deprecation (queue crawl delay=5000ms)\n",
            "-activeThreads=50, spinWaiting=49, fetchQueues.totalSize=0, fetchQueues.getQueueCount=1\n",
            "FetcherThread 89 has no more work available\n",
            "FetcherThread 90 has no more work available\n",
            "FetcherThread 89 -finishing thread FetcherThread, activeThreads=49\n",
            "FetcherThread 90 -finishing thread FetcherThread, activeThreads=48\n",
            "FetcherThread 41 has no more work available\n",
            "FetcherThread 41 -finishing thread FetcherThread, activeThreads=47\n",
            "FetcherThread 47 has no more work available\n",
            "FetcherThread 43 has no more work available\n",
            "FetcherThread 47 -finishing thread FetcherThread, activeThreads=46\n",
            "FetcherThread 43 -finishing thread FetcherThread, activeThreads=45\n",
            "FetcherThread 87 has no more work available\n",
            "FetcherThread 87 -finishing thread FetcherThread, activeThreads=44\n",
            "FetcherThread 46 has no more work available\n",
            "FetcherThread 46 -finishing thread FetcherThread, activeThreads=43\n",
            "FetcherThread 42 has no more work available\n",
            "FetcherThread 42 -finishing thread FetcherThread, activeThreads=42\n",
            "FetcherThread 45 has no more work available\n",
            "FetcherThread 45 -finishing thread FetcherThread, activeThreads=41\n",
            "FetcherThread 44 has no more work available\n",
            "FetcherThread 44 -finishing thread FetcherThread, activeThreads=40\n",
            "FetcherThread 50 has no more work available\n",
            "FetcherThread 50 -finishing thread FetcherThread, activeThreads=39\n",
            "FetcherThread 60 has no more work available\n",
            "FetcherThread 54 has no more work available\n",
            "FetcherThread 51 has no more work available\n",
            "FetcherThread 58 has no more work available\n",
            "FetcherThread 51 -finishing thread FetcherThread, activeThreads=37\n",
            "FetcherThread 56 has no more work available\n",
            "FetcherThread 56 -finishing thread FetcherThread, activeThreads=36\n",
            "FetcherThread 61 has no more work available\n",
            "FetcherThread 53 has no more work available\n",
            "FetcherThread 65 has no more work available\n",
            "FetcherThread 66 has no more work available\n",
            "FetcherThread 57 has no more work available\n",
            "FetcherThread 60 -finishing thread FetcherThread, activeThreads=38\n",
            "FetcherThread 55 has no more work available\n",
            "FetcherThread 52 has no more work available\n",
            "FetcherThread 67 has no more work available\n",
            "FetcherThread 62 has no more work available\n",
            "FetcherThread 59 has no more work available\n",
            "FetcherThread 64 has no more work available\n",
            "FetcherThread 63 has no more work available\n",
            "FetcherThread 67 -finishing thread FetcherThread, activeThreads=32\n",
            "FetcherThread 63 -finishing thread FetcherThread, activeThreads=31\n",
            "FetcherThread 55 -finishing thread FetcherThread, activeThreads=30\n",
            "FetcherThread 62 -finishing thread FetcherThread, activeThreads=33\n",
            "FetcherThread 54 -finishing thread FetcherThread, activeThreads=30\n",
            "FetcherThread 66 -finishing thread FetcherThread, activeThreads=29\n",
            "FetcherThread 61 -finishing thread FetcherThread, activeThreads=30\n",
            "FetcherThread 65 -finishing thread FetcherThread, activeThreads=28\n",
            "FetcherThread 53 -finishing thread FetcherThread, activeThreads=27\n",
            "FetcherThread 68 has no more work available\n",
            "FetcherThread 68 -finishing thread FetcherThread, activeThreads=26\n",
            "FetcherThread 58 -finishing thread FetcherThread, activeThreads=25\n",
            "FetcherThread 57 -finishing thread FetcherThread, activeThreads=24\n",
            "FetcherThread 52 -finishing thread FetcherThread, activeThreads=23\n",
            "FetcherThread 64 -finishing thread FetcherThread, activeThreads=22\n",
            "FetcherThread 59 -finishing thread FetcherThread, activeThreads=21\n",
            "FetcherThread 69 has no more work available\n",
            "FetcherThread 69 -finishing thread FetcherThread, activeThreads=20\n",
            "FetcherThread 76 has no more work available\n",
            "FetcherThread 74 has no more work available\n",
            "FetcherThread 73 has no more work available\n",
            "FetcherThread 71 has no more work available\n",
            "FetcherThread 75 has no more work available\n",
            "FetcherThread 72 has no more work available\n",
            "FetcherThread 70 has no more work available\n",
            "FetcherThread 76 -finishing thread FetcherThread, activeThreads=19\n",
            "FetcherThread 70 -finishing thread FetcherThread, activeThreads=18\n",
            "FetcherThread 77 has no more work available\n",
            "FetcherThread 72 -finishing thread FetcherThread, activeThreads=17\n",
            "FetcherThread 75 -finishing thread FetcherThread, activeThreads=15\n",
            "FetcherThread 71 -finishing thread FetcherThread, activeThreads=14\n",
            "FetcherThread 77 -finishing thread FetcherThread, activeThreads=16\n",
            "FetcherThread 73 -finishing thread FetcherThread, activeThreads=13\n",
            "FetcherThread 74 -finishing thread FetcherThread, activeThreads=12\n",
            "FetcherThread 78 has no more work available\n",
            "FetcherThread 79 has no more work available\n",
            "FetcherThread 78 -finishing thread FetcherThread, activeThreads=11\n",
            "FetcherThread 79 -finishing thread FetcherThread, activeThreads=10\n",
            "FetcherThread 81 has no more work available\n",
            "FetcherThread 80 has no more work available\n",
            "FetcherThread 81 -finishing thread FetcherThread, activeThreads=9\n",
            "FetcherThread 80 -finishing thread FetcherThread, activeThreads=8\n",
            "FetcherThread 82 has no more work available\n",
            "FetcherThread 82 -finishing thread FetcherThread, activeThreads=7\n",
            "FetcherThread 49 has no more work available\n",
            "FetcherThread 49 -finishing thread FetcherThread, activeThreads=6\n",
            "FetcherThread 83 has no more work available\n",
            "FetcherThread 83 -finishing thread FetcherThread, activeThreads=5\n",
            "FetcherThread 84 has no more work available\n",
            "FetcherThread 84 -finishing thread FetcherThread, activeThreads=4\n",
            "FetcherThread 85 has no more work available\n",
            "FetcherThread 85 -finishing thread FetcherThread, activeThreads=3\n",
            "FetcherThread 48 has no more work available\n",
            "FetcherThread 48 -finishing thread FetcherThread, activeThreads=2\n",
            "FetcherThread 86 has no more work available\n",
            "FetcherThread 86 -finishing thread FetcherThread, activeThreads=1\n",
            "FetcherThread 88 has no more work available\n",
            "FetcherThread 88 -finishing thread FetcherThread, activeThreads=0\n",
            "-activeThreads=0, spinWaiting=0, fetchQueues.totalSize=0, fetchQueues.getQueueCount=0\n",
            "-activeThreads=0\n",
            "Fetcher: finished at 2020-10-27 11:06:28, elapsed: 00:01:09\n",
            "Parsing : 20201027110517\n",
            "/content/now/NLP/nutch/bin/nutch parse -D mapreduce.job.reduces=2 -D mapred.child.java.opts=-Xmx1000m -D mapreduce.reduce.speculative=false -D mapreduce.map.speculative=false -D mapreduce.map.output.compress=true -D mapreduce.task.skip.start.attempts=2 -D mapreduce.map.skip.maxrecords=1 Crawl/segments/20201027110517\n",
            "ParseSegment: starting at 2020-10-27 11:06:30\n",
            "ParseSegment: segment: Crawl/segments/20201027110517\n",
            "Parsed (175ms):https://wikitech.wikimedia.org/wiki/Category:TLS\n",
            "Parsed (47ms):https://wikitech.wikimedia.org/wiki/HTTPS\n",
            "Parsed (28ms):https://wikitech.wikimedia.org/wiki/Incident_documentation\n",
            "Parsed (28ms):https://wikitech.wikimedia.org/wiki/Main_Page\n",
            "Parsed (37ms):https://wikitech.wikimedia.org/wiki/Portal:Cloud_VPS\n",
            "Parsed (20ms):https://wikitech.wikimedia.org/wiki/Portal:Toolforge\n",
            "Parsed (21ms):https://wikitech.wikimedia.org/wiki/SRE_Team_requests\n",
            "Parsed (12ms):https://wikitech.wikimedia.org/wiki/Talk:HTTPS/Browser_Recommendations\n",
            "Parsed (79ms):https://creativecommons.org/licenses/by-sa/3.0/\n",
            "Parsed (25ms):https://wikitech.wikimedia.org/wiki/Cloud_VPS_Server_Admin_Log\n",
            "Parsed (62ms):https://wikitech.wikimedia.org/wiki/Deployments\n",
            "Parsed (16ms):https://wikitech.wikimedia.org/wiki/HTTPS/3DES_Deprecation\n",
            "Parsed (25ms):https://wikitech.wikimedia.org/wiki/Release_Engineering/SAL\n",
            "Parsed (41ms):https://wikitech.wikimedia.org/wiki/Server_Admin_Log\n",
            "Parsed (3ms):https://www.wikimedia.org/sec-warning\n",
            "ParseSegment: finished at 2020-10-27 11:06:32, elapsed: 00:00:02\n",
            "CrawlDB update\n",
            "/content/now/NLP/nutch/bin/nutch updatedb -D mapreduce.job.reduces=2 -D mapred.child.java.opts=-Xmx1000m -D mapreduce.reduce.speculative=false -D mapreduce.map.speculative=false -D mapreduce.map.output.compress=true Crawl/crawldb Crawl/segments/20201027110517\n",
            "CrawlDb update: starting at 2020-10-27 11:06:34\n",
            "CrawlDb update: db: Crawl/crawldb\n",
            "CrawlDb update: segments: [Crawl/segments/20201027110517]\n",
            "CrawlDb update: additions allowed: true\n",
            "CrawlDb update: URL normalizing: false\n",
            "CrawlDb update: URL filtering: false\n",
            "CrawlDb update: 404 purging: false\n",
            "CrawlDb update: Merging segment data into db.\n",
            "CrawlDb update: finished at 2020-10-27 11:06:36, elapsed: 00:00:02\n",
            "Link inversion\n",
            "/content/now/NLP/nutch/bin/nutch invertlinks Crawl/linkdb Crawl/segments/20201027110517\n",
            "LinkDb: starting at 2020-10-27 11:06:38\n",
            "LinkDb: linkdb: Crawl/linkdb\n",
            "LinkDb: URL normalize: true\n",
            "LinkDb: URL filter: true\n",
            "LinkDb: internal links will be ignored.\n",
            "LinkDb: adding segment: Crawl/segments/20201027110517\n",
            "LinkDb: merging with existing linkdb: Crawl/linkdb\n",
            "LinkDb: finished at 2020-10-27 11:06:41, elapsed: 00:00:02\n",
            "Dedup on crawldb\n",
            "/content/now/NLP/nutch/bin/nutch dedup Crawl/crawldb\n",
            "DeduplicationJob: starting at 2020-10-27 11:06:41\n",
            "Deduplication: 1 documents marked as duplicates\n",
            "Deduplication: Updating status of duplicate urls into crawl db.\n",
            "Deduplication finished at 2020-10-27 11:06:45, elapsed: 00:00:03\n",
            "Indexing 20201027110517 to index\n",
            "/content/now/NLP/nutch/bin/nutch index -Dsolr.server.url=http://localhost:8983/solr/nutch Crawl/crawldb -linkdb Crawl/linkdb Crawl/segments/20201027110517\n",
            "Segment dir is complete: Crawl/segments/20201027110517.\n",
            "Indexer: starting at 2020-10-27 11:06:46\n",
            "Indexer: deleting gone documents: false\n",
            "Indexer: URL filtering: false\n",
            "Indexer: URL normalizing: false\n",
            "Active IndexWriters :\n",
            "SOLRIndexWriter\n",
            "\tsolr.server.url : URL of the SOLR instance\n",
            "\tsolr.zookeeper.hosts : URL of the Zookeeper quorum\n",
            "\tsolr.commit.size : buffer size when sending to SOLR (default 1000)\n",
            "\tsolr.mapping.file : name of the mapping file for fields (default solrindex-mapping.xml)\n",
            "\tsolr.auth : use authentication (default false)\n",
            "\tsolr.auth.username : username for authentication\n",
            "\tsolr.auth.password : password for authentication\n",
            "\n",
            "\n",
            "Indexing 15/15 documents\n",
            "Deleting 0 documents\n",
            "Indexing 15/15 documents\n",
            "Deleting 0 documents\n",
            "Indexer: java.io.IOException: Job failed!\n",
            "\tat org.apache.hadoop.mapred.JobClient.runJob(JobClient.java:873)\n",
            "\tat org.apache.nutch.indexer.IndexingJob.index(IndexingJob.java:147)\n",
            "\tat org.apache.nutch.indexer.IndexingJob.run(IndexingJob.java:230)\n",
            "\tat org.apache.hadoop.util.ToolRunner.run(ToolRunner.java:70)\n",
            "\tat org.apache.nutch.indexer.IndexingJob.main(IndexingJob.java:239)\n",
            "\n",
            "Error running:\n",
            "  /content/now/NLP/nutch/bin/nutch index -Dsolr.server.url=http://localhost:8983/solr/nutch Crawl/crawldb -linkdb Crawl/linkdb Crawl/segments/20201027110517\n",
            "Failed with exit value 255.\n"
          ],
          "name": "stdout"
        }
      ]
    },
    {
      "cell_type": "code",
      "metadata": {
        "id": "zGMkMHVkVjlu",
        "outputId": "82038795-d47a-4861-dbce-2afd9af68916",
        "colab": {
          "base_uri": "https://localhost:8080/",
          "height": 201
        }
      },
      "source": [
        "\n",
        "get_ipython().system_raw('tensorboard --logdir /content/trainingdata/objectdetection/ckpt_output/trainingImatges/ --host 0.0.0.0 --port 8983 &')\n",
        "\n",
        "get_ipython().system_raw('./ngrok http 8983 &')\n",
        "\n",
        "! curl -s http://localhost:8983/api/tunnels | python3 -c \\\n",
        " \"import sys, json; print(json.load(sys.stdin)['tunnels'][0]['public_url'])\""
      ],
      "execution_count": null,
      "outputs": [
        {
          "output_type": "stream",
          "text": [
            "Traceback (most recent call last):\n",
            "  File \"<string>\", line 1, in <module>\n",
            "  File \"/usr/lib/python3.6/json/__init__.py\", line 299, in load\n",
            "    parse_constant=parse_constant, object_pairs_hook=object_pairs_hook, **kw)\n",
            "  File \"/usr/lib/python3.6/json/__init__.py\", line 354, in loads\n",
            "    return _default_decoder.decode(s)\n",
            "  File \"/usr/lib/python3.6/json/decoder.py\", line 339, in decode\n",
            "    obj, end = self.raw_decode(s, idx=_w(s, 0).end())\n",
            "  File \"/usr/lib/python3.6/json/decoder.py\", line 357, in raw_decode\n",
            "    raise JSONDecodeError(\"Expecting value\", s, err.value) from None\n",
            "json.decoder.JSONDecodeError: Expecting value: line 1 column 1 (char 0)\n"
          ],
          "name": "stdout"
        }
      ]
    },
    {
      "cell_type": "code",
      "metadata": {
        "id": "U2eU4dMMvLj7",
        "outputId": "4888a547-78f9-45f8-b80a-3b3a2c10a6d1",
        "colab": {
          "base_uri": "https://localhost:8080/",
          "height": 184
        }
      },
      "source": [
        "!curl http://localhost:8983/solr/nutch/query?q=kabir&fl=url,title"
      ],
      "execution_count": null,
      "outputs": [
        {
          "output_type": "stream",
          "text": [
            "<html>\n",
            "<head>\n",
            "<meta http-equiv=\"Content-Type\" content=\"text/html;charset=utf-8\"/>\n",
            "<title>Error 404 Not Found</title>\n",
            "</head>\n",
            "<body><h2>HTTP ERROR 404</h2>\n",
            "<p>Problem accessing /solr/nutch/query. Reason:\n",
            "<pre>    Not Found</pre></p>\n",
            "</body>\n",
            "</html>\n"
          ],
          "name": "stdout"
        }
      ]
    }
  ]
}